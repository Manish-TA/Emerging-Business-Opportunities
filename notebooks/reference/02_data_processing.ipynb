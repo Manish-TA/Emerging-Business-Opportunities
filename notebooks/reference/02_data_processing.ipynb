{
 "cells": [
  {
   "attachments": {},
   "cell_type": "markdown",
   "metadata": {},
   "source": [
    "# Purpose"
   ]
  },
  {
   "attachments": {},
   "cell_type": "markdown",
   "metadata": {},
   "source": [
    "\n",
    "This notebook demonstrates the data pipeline from raw tables to analytical datasets. \n",
    "\n"
   ]
  },
  {
   "attachments": {},
   "cell_type": "markdown",
   "metadata": {},
   "source": [
    "## Imports"
   ]
  },
  {
   "cell_type": "code",
   "execution_count": 26,
   "metadata": {},
   "outputs": [],
   "source": [
    "from pprint import pprint\n",
    "import os\n",
    "import os.path as op\n",
    "import shutil\n",
    "\n",
    "# standard third party imports\n",
    "import numpy as np\n",
    "import pandas as pd\n",
    "from sklearn.model_selection import train_test_split\n",
    "pd.options.mode.use_inf_as_na = True\n"
   ]
  },
  {
   "cell_type": "code",
   "execution_count": 27,
   "metadata": {},
   "outputs": [
    {
     "name": "stdout",
     "output_type": "stream",
     "text": [
      "The autoreload extension is already loaded. To reload it, use:\n",
      "  %reload_ext autoreload\n"
     ]
    }
   ],
   "source": [
    "%load_ext autoreload\n",
    "%autoreload 2"
   ]
  },
  {
   "cell_type": "code",
   "execution_count": 28,
   "metadata": {},
   "outputs": [],
   "source": [
    "import warnings\n",
    "from numba import NumbaDeprecationWarning\n",
    "\n",
    "warnings.filterwarnings('ignore', message=\"The default value of regex will change from True to False in a future version.\", \n",
    "                        category=FutureWarning)\n",
    "\n",
    "warnings.filterwarnings(\"ignore\", category=NumbaDeprecationWarning)"
   ]
  },
  {
   "cell_type": "code",
   "execution_count": 29,
   "metadata": {},
   "outputs": [],
   "source": [
    "# standard code-template imports\n",
    "from ta_lib.core.api import (\n",
    "    create_context, get_dataframe, get_feature_names_from_column_transformer, get_package_path,\n",
    "    display_as_tabs, string_cleaning, merge_info, initialize_environment,\n",
    "    list_datasets, load_dataset, save_dataset\n",
    ")\n",
    "import great_expectations as ge\n",
    "import ta_lib.eda.api as eda"
   ]
  },
  {
   "cell_type": "code",
   "execution_count": 30,
   "metadata": {},
   "outputs": [],
   "source": [
    "initialize_environment(debug=False, hide_warnings=True)"
   ]
  },
  {
   "cell_type": "code",
   "execution_count": 31,
   "metadata": {},
   "outputs": [
    {
     "name": "stdout",
     "output_type": "stream",
     "text": [
      "['/raw/FnB/google_search_data',\n",
      " '/raw/FnB/product_manufacturer_list',\n",
      " '/raw/FnB/sales_data',\n",
      " '/raw/FnB/social_media_data',\n",
      " '/raw/FnB/theme_list',\n",
      " '/raw/FnB/theme_product_list',\n",
      " '/cleaned/FnB/google_search_data',\n",
      " '/cleaned/FnB/product_manufacturer_list',\n",
      " '/cleaned/FnB/sales_data',\n",
      " '/cleaned/FnB/social_media_data',\n",
      " '/cleaned/FnB/theme_list',\n",
      " '/cleaned/FnB/theme_product_list',\n",
      " '/train/FnB/features',\n",
      " '/train/FnB/target',\n",
      " '/test/FnB/features',\n",
      " '/test/FnB/target',\n",
      " '/processed/FnB/client_data',\n",
      " '/score/FnB/output']\n"
     ]
    }
   ],
   "source": [
    "config_path = op.join('conf', 'config.yml')\n",
    "context = create_context(config_path)\n",
    "pprint(list_datasets(context))"
   ]
  },
  {
   "cell_type": "code",
   "execution_count": 32,
   "metadata": {},
   "outputs": [],
   "source": [
    "sales_data = load_dataset(context, 'raw/FnB/sales_data')\n",
    "product_manufacturer_list = load_dataset(context, 'raw/FnB/product_manufacturer_list')\n",
    "google_search_data = load_dataset(context, 'raw/FnB/google_search_data')\n",
    "social_media_data = load_dataset(context, 'raw/FnB/social_media_data')\n",
    "Theme_list = load_dataset(context, 'raw/FnB/theme_list')\n",
    "Theme_product_list = load_dataset(context, 'raw/FnB/theme_product_list')"
   ]
  },
  {
   "cell_type": "markdown",
   "metadata": {},
   "source": [
    "### Data Validation"
   ]
  },
  {
   "cell_type": "markdown",
   "metadata": {},
   "source": [
    "1. Product Id should be an integer\n",
    "2. Date should be in datetime format in google search data \n",
    "3. Date should be in datetime format in social media data "
   ]
  },
  {
   "cell_type": "code",
   "execution_count": 33,
   "metadata": {},
   "outputs": [],
   "source": [
    "product_manufacturer_list1 = product_manufacturer_list.copy()\n",
    "google_search_data1 = google_search_data.copy()\n",
    "social_media_data1  = social_media_data.copy()"
   ]
  },
  {
   "cell_type": "code",
   "execution_count": 34,
   "metadata": {},
   "outputs": [],
   "source": [
    "verification_dict = {}\n",
    "product_manufacturer_list1 = ge.from_pandas(product_manufacturer_list1)\n",
    "google_search_data1 = ge.from_pandas(google_search_data1)\n",
    "social_media_data1 = ge.from_pandas(social_media_data1)\n"
   ]
  },
  {
   "cell_type": "code",
   "execution_count": 35,
   "metadata": {},
   "outputs": [
    {
     "name": "stdout",
     "output_type": "stream",
     "text": [
      "Rule 1 passed\n"
     ]
    }
   ],
   "source": [
    "verification_dict[\"rule_1_check\"] = product_manufacturer_list1.expect_column_values_to_be_of_type(\"PRODUCT_ID\", \"int64\", mostly=None, \n",
    "                                             result_format=\"BASIC\", include_config=True).to_json_dict()\n",
    "\n",
    "if verification_dict[\"rule_1_check\"][\"success\"]:\n",
    "    print(\"Rule 1 passed\")\n",
    "else:\n",
    "    print(\"Rule 1 failed\")"
   ]
  },
  {
   "cell_type": "code",
   "execution_count": 36,
   "metadata": {},
   "outputs": [
    {
     "name": "stdout",
     "output_type": "stream",
     "text": [
      "Rule 2 failed\n"
     ]
    }
   ],
   "source": [
    "\n",
    "verification_dict[\"rule_2_check\"] = google_search_data1.expect_column_values_to_be_of_type(\"date\", \"datetime64\", mostly=None, \n",
    "                                             result_format=\"BASIC\", include_config=True).to_json_dict()\n",
    "\n",
    "if verification_dict[\"rule_2_check\"][\"success\"]:\n",
    "    print(\"Rule 2 passed\")\n",
    "else:\n",
    "    print(\"Rule 2 failed\")"
   ]
  },
  {
   "cell_type": "code",
   "execution_count": 37,
   "metadata": {},
   "outputs": [
    {
     "name": "stdout",
     "output_type": "stream",
     "text": [
      "Rule 3 failed\n"
     ]
    }
   ],
   "source": [
    "verification_dict[\"rule_3_check\"] = social_media_data1.expect_column_values_to_be_of_type(\"published_date\", \"datetime64\", mostly=None, \n",
    "                                             result_format=\"BASIC\", include_config=True).to_json_dict()\n",
    "\n",
    "if verification_dict[\"rule_3_check\"][\"success\"]:\n",
    "    print(\"Rule 3 passed\")\n",
    "else:\n",
    "    print(\"Rule 3 failed\")"
   ]
  },
  {
   "cell_type": "markdown",
   "metadata": {},
   "source": [
    "## Cleaning"
   ]
  },
  {
   "cell_type": "markdown",
   "metadata": {},
   "source": [
    "### Sales table"
   ]
  },
  {
   "cell_type": "markdown",
   "metadata": {},
   "source": [
    "From data discovery, we know the following\n",
    "\n",
    "* No column are duplicates\n",
    "* key columns: PRODUCT_ID\n",
    "* integer columns: product_id , sales_units_value , sales_lbs_value , system_calendar_key_N)\n",
    "* float columns: sales_dollars_value \n",
    "* object columns:  Vendors\n",
    "* date columns:system_calendar_key_n"
   ]
  },
  {
   "cell_type": "code",
   "execution_count": 38,
   "metadata": {},
   "outputs": [
    {
     "data": {
      "text/html": [
       "<div>\n",
       "<style scoped>\n",
       "    .dataframe tbody tr th:only-of-type {\n",
       "        vertical-align: middle;\n",
       "    }\n",
       "\n",
       "    .dataframe tbody tr th {\n",
       "        vertical-align: top;\n",
       "    }\n",
       "\n",
       "    .dataframe thead th {\n",
       "        text-align: right;\n",
       "    }\n",
       "</style>\n",
       "<table border=\"1\" class=\"dataframe\">\n",
       "  <thead>\n",
       "    <tr style=\"text-align: right;\">\n",
       "      <th></th>\n",
       "      <th>date</th>\n",
       "      <th>product_id</th>\n",
       "      <th>sales_dollars_value</th>\n",
       "      <th>sales_units_value</th>\n",
       "      <th>sales_lbs_value</th>\n",
       "    </tr>\n",
       "  </thead>\n",
       "  <tbody>\n",
       "    <tr>\n",
       "      <th>0</th>\n",
       "      <td>2016-01-09</td>\n",
       "      <td>1</td>\n",
       "      <td>13927</td>\n",
       "      <td>934</td>\n",
       "      <td>18680</td>\n",
       "    </tr>\n",
       "    <tr>\n",
       "      <th>1</th>\n",
       "      <td>2016-01-09</td>\n",
       "      <td>3</td>\n",
       "      <td>10289</td>\n",
       "      <td>1592</td>\n",
       "      <td>28646</td>\n",
       "    </tr>\n",
       "    <tr>\n",
       "      <th>2</th>\n",
       "      <td>2016-01-09</td>\n",
       "      <td>4</td>\n",
       "      <td>357</td>\n",
       "      <td>22</td>\n",
       "      <td>440</td>\n",
       "    </tr>\n",
       "    <tr>\n",
       "      <th>3</th>\n",
       "      <td>2016-01-09</td>\n",
       "      <td>6</td>\n",
       "      <td>23113</td>\n",
       "      <td>2027</td>\n",
       "      <td>81088</td>\n",
       "    </tr>\n",
       "    <tr>\n",
       "      <th>4</th>\n",
       "      <td>2016-01-09</td>\n",
       "      <td>7</td>\n",
       "      <td>23177</td>\n",
       "      <td>3231</td>\n",
       "      <td>58164</td>\n",
       "    </tr>\n",
       "  </tbody>\n",
       "</table>\n",
       "</div>"
      ],
      "text/plain": [
       "        date  product_id  sales_dollars_value  sales_units_value  \\\n",
       "0 2016-01-09           1                13927                934   \n",
       "1 2016-01-09           3                10289               1592   \n",
       "2 2016-01-09           4                  357                 22   \n",
       "3 2016-01-09           6                23113               2027   \n",
       "4 2016-01-09           7                23177               3231   \n",
       "\n",
       "   sales_lbs_value  \n",
       "0            18680  \n",
       "1            28646  \n",
       "2              440  \n",
       "3            81088  \n",
       "4            58164  "
      ]
     },
     "execution_count": 38,
     "metadata": {},
     "output_type": "execute_result"
    }
   ],
   "source": [
    "sales_data_clean = (\n",
    "    sales_data\n",
    "    .copy()\n",
    "    .change_type(['sales_dollars_value'], np.int64)\n",
    "    .to_datetime('system_calendar_key_N', format='%Y%m%d')\n",
    "    .rename_columns({'system_calendar_key_N': 'date'})                                                                                                                       \n",
    "    .clean_names(case_type='snake')\n",
    ")\n",
    "sales_data_clean.head()"
   ]
  },
  {
   "cell_type": "markdown",
   "metadata": {},
   "source": [
    "### Social Media"
   ]
  },
  {
   "cell_type": "markdown",
   "metadata": {},
   "source": [
    "From data discovery, we know the following\n",
    "\n",
    "* No column are duplicates\n",
    "* 41%age values are missing in ThemeId column\n",
    "* key columns: Theme Id\n",
    "* integer columns: total_post\n",
    "* float columns: Theme Id\n",
    "* object columns:  published_date\n",
    "* date columns: published_date"
   ]
  },
  {
   "cell_type": "code",
   "execution_count": 39,
   "metadata": {},
   "outputs": [
    {
     "data": {
      "text/html": [
       "<div>\n",
       "<style scoped>\n",
       "    .dataframe tbody tr th:only-of-type {\n",
       "        vertical-align: middle;\n",
       "    }\n",
       "\n",
       "    .dataframe tbody tr th {\n",
       "        vertical-align: top;\n",
       "    }\n",
       "\n",
       "    .dataframe thead th {\n",
       "        text-align: right;\n",
       "    }\n",
       "</style>\n",
       "<table border=\"1\" class=\"dataframe\">\n",
       "  <thead>\n",
       "    <tr style=\"text-align: right;\">\n",
       "      <th></th>\n",
       "      <th>claim_id</th>\n",
       "      <th>date</th>\n",
       "      <th>total_post</th>\n",
       "    </tr>\n",
       "  </thead>\n",
       "  <tbody>\n",
       "    <tr>\n",
       "      <th>0</th>\n",
       "      <td>148</td>\n",
       "      <td>2015-01-10</td>\n",
       "      <td>76</td>\n",
       "    </tr>\n",
       "    <tr>\n",
       "      <th>1</th>\n",
       "      <td>148</td>\n",
       "      <td>2015-10-10</td>\n",
       "      <td>31</td>\n",
       "    </tr>\n",
       "    <tr>\n",
       "      <th>2</th>\n",
       "      <td>148</td>\n",
       "      <td>2015-11-10</td>\n",
       "      <td>65</td>\n",
       "    </tr>\n",
       "    <tr>\n",
       "      <th>3</th>\n",
       "      <td>148</td>\n",
       "      <td>2015-12-10</td>\n",
       "      <td>88</td>\n",
       "    </tr>\n",
       "    <tr>\n",
       "      <th>4</th>\n",
       "      <td>148</td>\n",
       "      <td>2015-10-13</td>\n",
       "      <td>85</td>\n",
       "    </tr>\n",
       "  </tbody>\n",
       "</table>\n",
       "</div>"
      ],
      "text/plain": [
       "   claim_id       date  total_post\n",
       "0       148 2015-01-10          76\n",
       "1       148 2015-10-10          31\n",
       "2       148 2015-11-10          65\n",
       "3       148 2015-12-10          88\n",
       "4       148 2015-10-13          85"
      ]
     },
     "execution_count": 39,
     "metadata": {},
     "output_type": "execute_result"
    }
   ],
   "source": [
    "social_media_data_clean = (\n",
    "    social_media_data\n",
    "    .copy()\n",
    "    .replace({'': np.NaN})\n",
    "    .dropna(axis = 0)\n",
    "    .change_type(['Theme Id'], np.int64)\n",
    "    .to_datetime('published_date')\n",
    "    .rename_columns({'Theme Id': 'claim_id' ,'published_date' : 'date' } )                                                                                                                               \n",
    "    .clean_names(case_type='snake')\n",
    "    .drop_duplicates()\n",
    ")\n",
    "\n",
    "social_media_data_clean.head(5)"
   ]
  },
  {
   "cell_type": "markdown",
   "metadata": {},
   "source": [
    "### Theme Product List"
   ]
  },
  {
   "cell_type": "markdown",
   "metadata": {},
   "source": [
    "From data discovery, we know the following\n",
    "\n",
    "* No column are duplicates\n",
    "* key columns: CLAIM_ID\n",
    "* integer columns: CLAIM_ID , PRODUCT_ID\n",
    "* This will go into production code"
   ]
  },
  {
   "cell_type": "code",
   "execution_count": 40,
   "metadata": {},
   "outputs": [
    {
     "data": {
      "text/html": [
       "<div>\n",
       "<style scoped>\n",
       "    .dataframe tbody tr th:only-of-type {\n",
       "        vertical-align: middle;\n",
       "    }\n",
       "\n",
       "    .dataframe tbody tr th {\n",
       "        vertical-align: top;\n",
       "    }\n",
       "\n",
       "    .dataframe thead th {\n",
       "        text-align: right;\n",
       "    }\n",
       "</style>\n",
       "<table border=\"1\" class=\"dataframe\">\n",
       "  <thead>\n",
       "    <tr style=\"text-align: right;\">\n",
       "      <th></th>\n",
       "      <th>product_id</th>\n",
       "      <th>claim_id</th>\n",
       "    </tr>\n",
       "  </thead>\n",
       "  <tbody>\n",
       "    <tr>\n",
       "      <th>0</th>\n",
       "      <td>26</td>\n",
       "      <td>8</td>\n",
       "    </tr>\n",
       "    <tr>\n",
       "      <th>1</th>\n",
       "      <td>29</td>\n",
       "      <td>8</td>\n",
       "    </tr>\n",
       "    <tr>\n",
       "      <th>2</th>\n",
       "      <td>48</td>\n",
       "      <td>81</td>\n",
       "    </tr>\n",
       "    <tr>\n",
       "      <th>3</th>\n",
       "      <td>50</td>\n",
       "      <td>81</td>\n",
       "    </tr>\n",
       "    <tr>\n",
       "      <th>4</th>\n",
       "      <td>74</td>\n",
       "      <td>227</td>\n",
       "    </tr>\n",
       "  </tbody>\n",
       "</table>\n",
       "</div>"
      ],
      "text/plain": [
       "   product_id  claim_id\n",
       "0          26         8\n",
       "1          29         8\n",
       "2          48        81\n",
       "3          50        81\n",
       "4          74       227"
      ]
     },
     "execution_count": 40,
     "metadata": {},
     "output_type": "execute_result"
    }
   ],
   "source": [
    "theme_product_list_clean= (\n",
    "    Theme_product_list\n",
    "    .copy()                                                                                                                               \n",
    "    .clean_names(case_type='snake')\n",
    ")\n",
    "theme_product_list_clean.head()"
   ]
  },
  {
   "cell_type": "markdown",
   "metadata": {},
   "source": [
    "### Product Manufacturer List"
   ]
  },
  {
   "cell_type": "markdown",
   "metadata": {},
   "source": [
    "From data discovery, we know the following\n",
    "\n",
    "* key columns: PRODUCT_ID\n",
    "* integer columns: PRODUCT_ID \n",
    "* object columns:  Vendors\n",
    "* This will go into production code"
   ]
  },
  {
   "cell_type": "code",
   "execution_count": 41,
   "metadata": {},
   "outputs": [
    {
     "data": {
      "text/html": [
       "<div>\n",
       "<style scoped>\n",
       "    .dataframe tbody tr th:only-of-type {\n",
       "        vertical-align: middle;\n",
       "    }\n",
       "\n",
       "    .dataframe tbody tr th {\n",
       "        vertical-align: top;\n",
       "    }\n",
       "\n",
       "    .dataframe thead th {\n",
       "        text-align: right;\n",
       "    }\n",
       "</style>\n",
       "<table border=\"1\" class=\"dataframe\">\n",
       "  <thead>\n",
       "    <tr style=\"text-align: right;\">\n",
       "      <th></th>\n",
       "      <th>product_id</th>\n",
       "      <th>vendor</th>\n",
       "    </tr>\n",
       "  </thead>\n",
       "  <tbody>\n",
       "    <tr>\n",
       "      <th>0</th>\n",
       "      <td>1</td>\n",
       "      <td>Others</td>\n",
       "    </tr>\n",
       "    <tr>\n",
       "      <th>1</th>\n",
       "      <td>2</td>\n",
       "      <td>Others</td>\n",
       "    </tr>\n",
       "    <tr>\n",
       "      <th>2</th>\n",
       "      <td>3</td>\n",
       "      <td>Others</td>\n",
       "    </tr>\n",
       "    <tr>\n",
       "      <th>3</th>\n",
       "      <td>4</td>\n",
       "      <td>Others</td>\n",
       "    </tr>\n",
       "    <tr>\n",
       "      <th>4</th>\n",
       "      <td>5</td>\n",
       "      <td>Others</td>\n",
       "    </tr>\n",
       "  </tbody>\n",
       "</table>\n",
       "</div>"
      ],
      "text/plain": [
       "   product_id  vendor\n",
       "0           1  Others\n",
       "1           2  Others\n",
       "2           3  Others\n",
       "3           4  Others\n",
       "4           5  Others"
      ]
     },
     "execution_count": 41,
     "metadata": {},
     "output_type": "execute_result"
    }
   ],
   "source": [
    "product_manufacturer_list_clean = (\n",
    "    product_manufacturer_list\n",
    "    .copy()\n",
    "    .drop(['Unnamed: 2', 'Unnamed: 3', 'Unnamed: 4', 'Unnamed: 5', 'Unnamed: 6'], axis=1)                                                                                                               \n",
    "    .clean_names(case_type='snake')\n",
    ")\n",
    "product_manufacturer_list_clean.head(5)"
   ]
  },
  {
   "cell_type": "markdown",
   "metadata": {},
   "source": [
    "### Themes List"
   ]
  },
  {
   "cell_type": "markdown",
   "metadata": {},
   "source": [
    "From data discovery, we know the following\n",
    "\n",
    "* No column are duplicates\n",
    "* key columns: CLAIM_ID\n",
    "* integer columns: CLAIM_ID\n",
    "* object columns:  Claim Name\n",
    "* This will go into production code"
   ]
  },
  {
   "cell_type": "code",
   "execution_count": 42,
   "metadata": {},
   "outputs": [
    {
     "data": {
      "text/html": [
       "<div>\n",
       "<style scoped>\n",
       "    .dataframe tbody tr th:only-of-type {\n",
       "        vertical-align: middle;\n",
       "    }\n",
       "\n",
       "    .dataframe tbody tr th {\n",
       "        vertical-align: top;\n",
       "    }\n",
       "\n",
       "    .dataframe thead th {\n",
       "        text-align: right;\n",
       "    }\n",
       "</style>\n",
       "<table border=\"1\" class=\"dataframe\">\n",
       "  <thead>\n",
       "    <tr style=\"text-align: right;\">\n",
       "      <th></th>\n",
       "      <th>claim_id</th>\n",
       "      <th>claim_name</th>\n",
       "    </tr>\n",
       "  </thead>\n",
       "  <tbody>\n",
       "    <tr>\n",
       "      <th>0</th>\n",
       "      <td>0</td>\n",
       "      <td>No Claim</td>\n",
       "    </tr>\n",
       "    <tr>\n",
       "      <th>1</th>\n",
       "      <td>8</td>\n",
       "      <td>low carb</td>\n",
       "    </tr>\n",
       "    <tr>\n",
       "      <th>2</th>\n",
       "      <td>15</td>\n",
       "      <td>beans</td>\n",
       "    </tr>\n",
       "    <tr>\n",
       "      <th>3</th>\n",
       "      <td>16</td>\n",
       "      <td>cocoa</td>\n",
       "    </tr>\n",
       "    <tr>\n",
       "      <th>4</th>\n",
       "      <td>26</td>\n",
       "      <td>vanilla</td>\n",
       "    </tr>\n",
       "  </tbody>\n",
       "</table>\n",
       "</div>"
      ],
      "text/plain": [
       "   claim_id claim_name\n",
       "0         0   No Claim\n",
       "1         8   low carb\n",
       "2        15      beans\n",
       "3        16      cocoa\n",
       "4        26    vanilla"
      ]
     },
     "execution_count": 42,
     "metadata": {},
     "output_type": "execute_result"
    }
   ],
   "source": [
    "theme_list_clean = (\n",
    "    Theme_list\n",
    "    .copy()\n",
    "    .passthrough()    \n",
    "    .replace({'': np.NaN})\n",
    "    .clean_names(case_type='snake')\n",
    ")\n",
    "theme_list_clean.head(5)"
   ]
  },
  {
   "cell_type": "markdown",
   "metadata": {},
   "source": [
    "### Google search data"
   ]
  },
  {
   "cell_type": "markdown",
   "metadata": {},
   "source": [
    "From data discovery, we know the following\n",
    "\n",
    "* date column has type date and others columns has dtype int  : nothing to fix. Apply generic cleaning (strip extra whitespace etc)\n",
    "* No column are duplicates\n",
    "* Claim_id is key column : ensure no duplicate values\n",
    "* This will go into production code"
   ]
  },
  {
   "cell_type": "code",
   "execution_count": 43,
   "metadata": {},
   "outputs": [
    {
     "data": {
      "text/html": [
       "<div>\n",
       "<style scoped>\n",
       "    .dataframe tbody tr th:only-of-type {\n",
       "        vertical-align: middle;\n",
       "    }\n",
       "\n",
       "    .dataframe tbody tr th {\n",
       "        vertical-align: top;\n",
       "    }\n",
       "\n",
       "    .dataframe thead th {\n",
       "        text-align: right;\n",
       "    }\n",
       "</style>\n",
       "<table border=\"1\" class=\"dataframe\">\n",
       "  <thead>\n",
       "    <tr style=\"text-align: right;\">\n",
       "      <th></th>\n",
       "      <th>date</th>\n",
       "      <th>platform</th>\n",
       "      <th>search_volume</th>\n",
       "      <th>claim_id</th>\n",
       "      <th>week_number</th>\n",
       "      <th>year</th>\n",
       "    </tr>\n",
       "  </thead>\n",
       "  <tbody>\n",
       "    <tr>\n",
       "      <th>0</th>\n",
       "      <td>2018-01-10</td>\n",
       "      <td>google</td>\n",
       "      <td>370484</td>\n",
       "      <td>657</td>\n",
       "      <td>2</td>\n",
       "      <td>2018</td>\n",
       "    </tr>\n",
       "    <tr>\n",
       "      <th>1</th>\n",
       "      <td>2018-01-09</td>\n",
       "      <td>google</td>\n",
       "      <td>259069</td>\n",
       "      <td>657</td>\n",
       "      <td>2</td>\n",
       "      <td>2018</td>\n",
       "    </tr>\n",
       "    <tr>\n",
       "      <th>2</th>\n",
       "      <td>2018-01-11</td>\n",
       "      <td>google</td>\n",
       "      <td>197772</td>\n",
       "      <td>657</td>\n",
       "      <td>2</td>\n",
       "      <td>2018</td>\n",
       "    </tr>\n",
       "    <tr>\n",
       "      <th>3</th>\n",
       "      <td>2016-10-30</td>\n",
       "      <td>google</td>\n",
       "      <td>169543</td>\n",
       "      <td>158</td>\n",
       "      <td>43</td>\n",
       "      <td>2016</td>\n",
       "    </tr>\n",
       "    <tr>\n",
       "      <th>4</th>\n",
       "      <td>2015-10-02</td>\n",
       "      <td>google</td>\n",
       "      <td>145848</td>\n",
       "      <td>158</td>\n",
       "      <td>40</td>\n",
       "      <td>2015</td>\n",
       "    </tr>\n",
       "  </tbody>\n",
       "</table>\n",
       "</div>"
      ],
      "text/plain": [
       "        date platform  search_volume  claim_id  week_number  year\n",
       "0 2018-01-10   google         370484       657            2  2018\n",
       "1 2018-01-09   google         259069       657            2  2018\n",
       "2 2018-01-11   google         197772       657            2  2018\n",
       "3 2016-10-30   google         169543       158           43  2016\n",
       "4 2015-10-02   google         145848       158           40  2015"
      ]
     },
     "execution_count": 43,
     "metadata": {},
     "output_type": "execute_result"
    }
   ],
   "source": [
    "google_search_data_clean = (\n",
    "    google_search_data\n",
    "    .copy()\n",
    "    .replace({'': np.NaN})\n",
    "    .to_datetime('date', format='%d-%m-%Y')\n",
    "    .sort_values(by=['searchVolume'],ascending=False)\n",
    "    .rename_columns({'year_new' : 'year'})\n",
    "    .drop_duplicates(subset = ['date' , 'Claim_ID' , 'platform'],keep = 'first').reset_index(drop = True)\n",
    "    .clean_names(case_type='snake')    \n",
    ")\n",
    "google_search_data_clean.head(5)"
   ]
  },
  {
   "cell_type": "code",
   "execution_count": 44,
   "metadata": {},
   "outputs": [],
   "source": [
    "save_dataset(context, sales_data_clean, \"cleaned/FnB/sales_data\")\n",
    "save_dataset(context, social_media_data_clean, \"cleaned/FnB/social_media_data\")\n",
    "save_dataset(context, google_search_data_clean, \"cleaned/FnB/google_search_data\")\n",
    "save_dataset(context, theme_product_list_clean, \"cleaned/FnB/theme_product_list\")\n",
    "save_dataset(context, theme_list_clean, \"cleaned/FnB/theme_list\")\n",
    "save_dataset(context, product_manufacturer_list_clean, \"cleaned/FnB/product_manufacturer_list\")"
   ]
  }
 ],
 "metadata": {
  "kernelspec": {
   "display_name": "ta-lib-dev",
   "language": "python",
   "name": "python3"
  },
  "language_info": {
   "codemirror_mode": {
    "name": "ipython",
    "version": 3
   },
   "file_extension": ".py",
   "mimetype": "text/x-python",
   "name": "python",
   "nbconvert_exporter": "python",
   "pygments_lexer": "ipython3",
   "version": "3.9.21"
  }
 },
 "nbformat": 4,
 "nbformat_minor": 4
}
